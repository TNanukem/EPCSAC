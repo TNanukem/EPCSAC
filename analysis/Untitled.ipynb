{
 "cells": [
  {
   "cell_type": "code",
   "execution_count": 1,
   "metadata": {},
   "outputs": [],
   "source": [
    "import pandas as pd"
   ]
  },
  {
   "cell_type": "code",
   "execution_count": 14,
   "metadata": {},
   "outputs": [
    {
     "data": {
      "text/html": [
       "<div>\n",
       "<style scoped>\n",
       "    .dataframe tbody tr th:only-of-type {\n",
       "        vertical-align: middle;\n",
       "    }\n",
       "\n",
       "    .dataframe tbody tr th {\n",
       "        vertical-align: top;\n",
       "    }\n",
       "\n",
       "    .dataframe thead th {\n",
       "        text-align: right;\n",
       "    }\n",
       "</style>\n",
       "<table border=\"1\" class=\"dataframe\">\n",
       "  <thead>\n",
       "    <tr style=\"text-align: right;\">\n",
       "      <th></th>\n",
       "      <th>Cloudlet</th>\n",
       "      <th>Status</th>\n",
       "      <th>CloudletLen</th>\n",
       "      <th>StartTime</th>\n",
       "      <th>FinishTime</th>\n",
       "      <th>ExecTime</th>\n",
       "    </tr>\n",
       "  </thead>\n",
       "  <tbody>\n",
       "    <tr>\n",
       "      <th>0</th>\n",
       "      <td>6</td>\n",
       "      <td>SUCCESS</td>\n",
       "      <td>5068841</td>\n",
       "      <td>0</td>\n",
       "      <td>5069</td>\n",
       "      <td>5069</td>\n",
       "    </tr>\n",
       "    <tr>\n",
       "      <th>1</th>\n",
       "      <td>29</td>\n",
       "      <td>SUCCESS</td>\n",
       "      <td>5093084</td>\n",
       "      <td>0</td>\n",
       "      <td>5093</td>\n",
       "      <td>5093</td>\n",
       "    </tr>\n",
       "    <tr>\n",
       "      <th>2</th>\n",
       "      <td>30</td>\n",
       "      <td>SUCCESS</td>\n",
       "      <td>5339600</td>\n",
       "      <td>0</td>\n",
       "      <td>5340</td>\n",
       "      <td>5340</td>\n",
       "    </tr>\n",
       "    <tr>\n",
       "      <th>3</th>\n",
       "      <td>4</td>\n",
       "      <td>SUCCESS</td>\n",
       "      <td>5431124</td>\n",
       "      <td>0</td>\n",
       "      <td>5431</td>\n",
       "      <td>5431</td>\n",
       "    </tr>\n",
       "    <tr>\n",
       "      <th>4</th>\n",
       "      <td>27</td>\n",
       "      <td>SUCCESS</td>\n",
       "      <td>5539461</td>\n",
       "      <td>0</td>\n",
       "      <td>5540</td>\n",
       "      <td>5540</td>\n",
       "    </tr>\n",
       "  </tbody>\n",
       "</table>\n",
       "</div>"
      ],
      "text/plain": [
       "   Cloudlet  Status   CloudletLen  StartTime  FinishTime  ExecTime\n",
       "0         6  SUCCESS      5068841          0        5069      5069\n",
       "1        29  SUCCESS      5093084          0        5093      5093\n",
       "2        30  SUCCESS      5339600          0        5340      5340\n",
       "3         4  SUCCESS      5431124          0        5431      5431\n",
       "4        27  SUCCESS      5539461          0        5540      5540"
      ]
     },
     "execution_count": 14,
     "metadata": {},
     "output_type": "execute_result"
    }
   ],
   "source": [
    "output_dtypes = {\n",
    "    'StartTime': float,\n",
    "    'FinishTime': float,\n",
    "    'ExecTime': float\n",
    "}\n",
    "\n",
    "output = pd.read_csv('exemplo_1_results_2020_02_06_17_19_11.csv', sep=';')\n",
    "output.head()"
   ]
  },
  {
   "cell_type": "code",
   "execution_count": null,
   "metadata": {},
   "outputs": [],
   "source": [
    "output['ExecTime'].max()"
   ]
  },
  {
   "cell_type": "code",
   "execution_count": null,
   "metadata": {},
   "outputs": [],
   "source": []
  }
 ],
 "metadata": {
  "kernelspec": {
   "display_name": "Python 3",
   "language": "python",
   "name": "python3"
  },
  "language_info": {
   "codemirror_mode": {
    "name": "ipython",
    "version": 3
   },
   "file_extension": ".py",
   "mimetype": "text/x-python",
   "name": "python",
   "nbconvert_exporter": "python",
   "pygments_lexer": "ipython3",
   "version": "3.6.9"
  }
 },
 "nbformat": 4,
 "nbformat_minor": 4
}
